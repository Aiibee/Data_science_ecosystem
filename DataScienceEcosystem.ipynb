{
 "cells": [
  {
   "cell_type": "markdown",
   "id": "e59b7482-d625-4269-85e7-6cc40685c7c6",
   "metadata": {},
   "source": [
    "# Data Science Tools and Ecosystem"
   ]
  },
  {
   "cell_type": "markdown",
   "id": "2d1cc825-a18e-4867-9221-66f643a592d0",
   "metadata": {},
   "source": [
    "## In this notebook, Data Science Tools and Ecosystem are summarized."
   ]
  },
  {
   "cell_type": "markdown",
   "id": "057fcddf-10d4-4b12-919e-bd74c4a7238c",
   "metadata": {},
   "source": [
    "## **objectives**"
   ]
  },
  {
   "cell_type": "markdown",
   "id": "739d1f6a-d839-49e5-a5ac-2640c20533b0",
   "metadata": {},
   "source": [
    "+ list of popular languages by Data Sciencist\n",
    "+ some commonly used libraries by Data Scientist\n",
    "+ Creating tables in Jupyter Notebook\n",
    "+ Basic arithmetics in Jupyter Notebook"
   ]
  },
  {
   "cell_type": "markdown",
   "id": "f62a9ccd-022b-4150-b8da-1a31ae0a86ab",
   "metadata": {},
   "source": [
    "### Some of the popular languages that Data Scientists use are:"
   ]
  },
  {
   "cell_type": "markdown",
   "id": "c8919dd8-32d5-4565-a3d8-6147e89e97af",
   "metadata": {},
   "source": [
    "1. Python\n",
    "2. R\n",
    "3. Julia\n",
    "4. Java"
   ]
  },
  {
   "cell_type": "markdown",
   "id": "0aa9deba-8571-4606-9b47-cc3cef2a2838",
   "metadata": {},
   "source": [
    "### Some of the commonly used libraries used by Data Scientists include:"
   ]
  },
  {
   "cell_type": "markdown",
   "id": "cbad20cd-2924-43cb-afeb-5f6da4902bfa",
   "metadata": {},
   "source": [
    "1. Pandas\n",
    "2. NumPy\n",
    "3. Matplotlib\n",
    "4. Seaborn"
   ]
  },
  {
   "cell_type": "markdown",
   "id": "d7cb39b2-fd8c-4854-948b-8b21752cfc92",
   "metadata": {},
   "source": [
    "|Data Science Tools|\n",
    "--------------------\n",
    "|Jupyter Notebook|\n",
    "|R Studio|\n",
    "|Spyder|"
   ]
  },
  {
   "cell_type": "markdown",
   "id": "7c3ec84f-7abf-43e4-8366-5d0b72a99f42",
   "metadata": {},
   "source": [
    "### Below are a few examples of evaluating arithmetic expressions in Python"
   ]
  },
  {
   "cell_type": "code",
   "execution_count": 1,
   "id": "00055e84-bc58-4301-be5d-c419b0a7cc49",
   "metadata": {},
   "outputs": [
    {
     "data": {
      "text/plain": [
       "17.0"
      ]
     },
     "execution_count": 1,
     "metadata": {},
     "output_type": "execute_result"
    }
   ],
   "source": [
    "#This a simple arithmetic expression to mutiply then add integers\n",
    "(3*4)+5."
   ]
  },
  {
   "cell_type": "code",
   "execution_count": 2,
   "id": "602f6702-59ee-4975-b80d-9b7fbe29d15d",
   "metadata": {},
   "outputs": [
    {
     "data": {
      "text/plain": [
       "3.3333333333333335"
      ]
     },
     "execution_count": 2,
     "metadata": {},
     "output_type": "execute_result"
    }
   ],
   "source": [
    "#This will convert 200 minutes to hours by diving by 60\n",
    "200/60"
   ]
  },
  {
   "cell_type": "markdown",
   "id": "30f7eff6-03ad-442d-ab9a-4e79506250a4",
   "metadata": {},
   "source": [
    "## Author\n",
    "Ezeah Ibuchukwu"
   ]
  },
  {
   "cell_type": "code",
   "execution_count": null,
   "id": "16c0d268-d802-43ed-8b06-93d717a6de72",
   "metadata": {},
   "outputs": [],
   "source": []
  }
 ],
 "metadata": {
  "kernelspec": {
   "display_name": "Python 3 (ipykernel)",
   "language": "python",
   "name": "python3"
  },
  "language_info": {
   "codemirror_mode": {
    "name": "ipython",
    "version": 3
   },
   "file_extension": ".py",
   "mimetype": "text/x-python",
   "name": "python",
   "nbconvert_exporter": "python",
   "pygments_lexer": "ipython3",
   "version": "3.11.7"
  }
 },
 "nbformat": 4,
 "nbformat_minor": 5
}
